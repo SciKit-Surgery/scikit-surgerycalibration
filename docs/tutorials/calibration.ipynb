{
 "cells": [
  {
   "cell_type": "markdown",
   "metadata": {},
   "source": [
    "# Camera Calibration\n",
    "\n",
    "scikit-surgerycalibration provides a range of functions/classes mono, stereo and hand-eye calibration.\n",
    "\n",
    "The Jupyter notebook for this page can be found in the docs/tutorials folder of the [code repository](https://github.com/UCL/scikit-surgerycalibration).\n",
    "\n",
    "## Required modules\n",
    "This tutorial requires numpy, opencv-contib-python, scikit-surgeryimage, scikit-surgerycalibration, and matplotlib (for inline image plotting)."
   ]
  },
  {
   "cell_type": "code",
   "execution_count": null,
   "metadata": {},
   "outputs": [],
   "source": [
    "import cv2\n",
    "import numpy as np\n",
    "import matplotlib.pyplot as plt\n",
    "import sksurgeryimage.calibration.chessboard_point_detector as cpd\n",
    "import sksurgerycalibration.video.video_calibration_driver_mono as mc"
   ]
  },
  {
   "cell_type": "markdown",
   "metadata": {},
   "source": [
    "## Chessboard Calibration\n",
    "\n",
    "The calibrator can be used with any of the point detectors available in [scikit-surgeryimage](https://github.com/UCL/scikit-surgeryimage).\n",
    "\n",
    "In this example, we will use the chessboard detector, see the [Point Detectors Tutorial](https://scikit-surgeryimage.readthedocs.io/en/latest/tutorials/point_detectors.html) for some examples of other options.\n",
    "\n",
    "We will use [this](https://github.com/UCL/scikit-surgerybard/blob/master/data/calibrationGrids/calibrationgrid-6mm.pdf) 14x10 chessboard pattern for calibration. You can either print it out, or display it on a mobile phone. If printed, the square size is 6mm, you will have to measure/estimate the size if displayed on a phone screen.\n",
    "\n",
    "### Initial setup"
   ]
  },
  {
   "cell_type": "code",
   "execution_count": null,
   "metadata": {},
   "outputs": [],
   "source": [
    "chessboard_corners = (14, 10)\n",
    "min_points_to_detect = chessboard_corners[0] * chessboard_corners[1]\n",
    "square_size_mm = 6 # Change as appropriate if displayed on phone\n",
    "\n",
    "video_source = cv2.VideoCapture(0)\n",
    "\n",
    "detector = cpd.ChessboardPointDetector(chessboard_corners, square_size_mm)\n",
    "calibrator = mc.MonoVideoCalibrationDriver(detector, min_points_to_detect)\n"
   ]
  },
  {
   "cell_type": "markdown",
   "metadata": {},
   "source": [
    "### Capture some frames\n",
    "\n",
    "If you hold the chessboard in view of your camera, and run the below cell repeatedly, it will grab frames and calibrate (once more than one frame has been captured)."
   ]
  },
  {
   "cell_type": "code",
   "execution_count": null,
   "metadata": {},
   "outputs": [],
   "source": [
    "# Read a frame and detect points \n",
    "_, frame = video_source.read()\n",
    "number_of_points = calibrator.grab_data(frame)\n",
    "\n",
    "# Draw chessboard points on frame\n",
    "if number_of_points > 0:\n",
    "    img_pts = calibrator.video_data.image_points_arrays[-1]\n",
    "    frame = cv2.drawChessboardCorners(frame, chessboard_corners,\n",
    "                                      img_pts,\n",
    "                                      number_of_points)\n",
    "plt.imshow(frame)\n",
    "\n",
    "# Print some details\n",
    "number_of_views = calibrator.get_number_of_views()\n",
    "print(f\"Detected {number_of_points} corners\")\n",
    "print(f\"{number_of_views} frames captured\")"
   ]
  },
  {
   "cell_type": "markdown",
   "metadata": {},
   "source": [
    "### Perform calibration"
   ]
  },
  {
   "cell_type": "code",
   "execution_count": null,
   "metadata": {},
   "outputs": [],
   "source": [
    "if number_of_views > 1:\n",
    "    proj_err, recon_err, params = calibrator.calibrate()\n",
    "    print(\"Reprojection (2D) error is:\" + str(proj_err))\n",
    "    print(\"Reconstruction (3D) error is:\" + str(recon_err))\n",
    "    print(\"Intrinsics are:\")\n",
    "    print(params.camera_matrix)\n",
    "    print(\"Distortion matrix is:\")\n",
    "    print(params.dist_coeffs)"
   ]
  },
  {
   "cell_type": "markdown",
   "metadata": {},
   "source": [
    "## Dot Calibration\n",
    "\n",
    "We will use [this](https://scikit-surgeryimage.readthedocs.io/en/latest/_images/dot_pattern.png) dot pattern. Due to the relatively small size of the dots, performance when displayed on a phone screen may vary."
   ]
  },
  {
   "cell_type": "code",
   "execution_count": null,
   "metadata": {},
   "outputs": [],
   "source": [
    "import cv2\n",
    "import numpy as np\n",
    "import matplotlib.pyplot as plt\n",
    "import sksurgeryimage.calibration.dotty_grid_point_detector as dpd\n",
    "import sksurgerycalibration.video.video_calibration_driver_mono as mc"
   ]
  },
  {
   "cell_type": "markdown",
   "metadata": {},
   "source": [
    "### Setup dot detector"
   ]
  },
  {
   "cell_type": "code",
   "execution_count": null,
   "metadata": {},
   "outputs": [],
   "source": [
    "number_of_dots = [18, 25]\n",
    "pixels_per_mm = 80\n",
    "dot_separation = 5\n",
    "\n",
    "# Don't need to capture all dots for calibration to work\n",
    "min_points_to_detect = (number_of_dots[0] / number_of_dots[1]) / 2\n",
    "\n",
    "model_points = dpd.get_model_points(number_of_dots,\n",
    "                                         pixels_per_mm,\n",
    "                                         dot_separation)\n",
    "\n",
    "# Location of the large dots in the pattern\n",
    "fiducial_indexes = [132, 142, 307, 317]\n",
    "\n",
    "# Image size\n",
    "reference_image_size = [1900, 2600]\n",
    "\n",
    "# data in scikit-surgerycalibration/tests/data/dot_calib\n",
    "left_intrinsic_matrix = np.loadtxt(\"../../tests/data/dot_calib/calib.left.intrinsics.txt\")\n",
    "left_distortion_matrix = np.loadtxt(\"../../tests/data/dot_calib/calib.left.distortion.txt\")\n",
    "\n",
    "detector = \\\n",
    "    dpd.DottyGridPointDetector(\n",
    "        model_points,\n",
    "        fiducial_indexes,\n",
    "        left_intrinsic_matrix,\n",
    "        left_distortion_matrix,\n",
    "        reference_image_size=(reference_image_size[1],\n",
    "                                reference_image_size[0])\n",
    "        )\n",
    "\n",
    "calibrator = mc.MonoVideoCalibrationDriver(detector, min_points_to_detect)"
   ]
  },
  {
   "cell_type": "markdown",
   "metadata": {},
   "source": [
    "### Capture some frames"
   ]
  },
  {
   "cell_type": "code",
   "execution_count": null,
   "metadata": {},
   "outputs": [],
   "source": [
    "# Read a frame and detect points \n",
    "_, frame = video_source.read()\n",
    "number_of_points = calibrator.grab_data(frame)\n",
    "number_of_views = calibrator.get_number_of_views()\n",
    "\n",
    "if number_of_points > 0:\n",
    "    img_pts = calibrator.video_data.image_points_arrays[-1]\n",
    "\n",
    "    # Draw detected points on frame\n",
    "    for point in img_pts:\n",
    "        frame = cv2.circle(frame, (point[0][0], point[0][1]), 5, (255, 0 ,0), -1)\n",
    "\n",
    "print(f\"Detected {number_of_points} points\")\n",
    "print(f\"{number_of_views} frames captured\")\n",
    "\n",
    "plt.imshow(frame) "
   ]
  },
  {
   "cell_type": "markdown",
   "metadata": {},
   "source": [
    "### Perform Calibration"
   ]
  },
  {
   "cell_type": "code",
   "execution_count": null,
   "metadata": {},
   "outputs": [],
   "source": [
    "if number_of_views > 1:\n",
    "    proj_err, recon_err, params = calibrator.calibrate()\n",
    "    print(\"Reprojection (2D) error is:\" + str(proj_err))\n",
    "    print(\"Reconstruction (3D) error is:\" + str(recon_err))\n",
    "    print(\"Intrinsics are:\")\n",
    "    print(params.camera_matrix)\n",
    "    print(\"Distortion matrix is:\")\n",
    "    print(params.dist_coeffs)"
   ]
  },
  {
   "cell_type": "markdown",
   "metadata": {},
   "source": [
    "## Stereo Calibration\n",
    "\n",
    "Stereo calibration works in the same way as mono calibration, except with two detectors and two images:\n",
    "\n",
    "```\n",
    "import sksurgerycalibration.video.video_calibration_driver_stereo as sc\n",
    "\n",
    "# Define detectors\n",
    "\n",
    "calibrator = sc.StereoVideoCalibrationDriver(left_detector,\n",
    "                                           right_detector,\n",
    "                                           min_points)\n",
    "                                           \n",
    "# Acquire images\n",
    "\n",
    "number_of_points = calibrator.grab(left_image, right_image)\n",
    "```"
   ]
  }
 ],
 "metadata": {
  "kernelspec": {
   "display_name": "Python 3",
   "language": "python",
   "name": "python3"
  },
  "language_info": {
   "codemirror_mode": {
    "name": "ipython",
    "version": 3
   },
   "file_extension": ".py",
   "mimetype": "text/x-python",
   "name": "python",
   "nbconvert_exporter": "python",
   "pygments_lexer": "ipython3",
   "version": "3.6.8"
  }
 },
 "nbformat": 4,
 "nbformat_minor": 4
}
